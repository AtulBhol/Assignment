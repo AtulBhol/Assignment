{
 "cells": [
  {
   "cell_type": "code",
   "execution_count": null,
   "id": "1f83d550-474c-4f42-aa1a-4ad1454df0c8",
   "metadata": {},
   "outputs": [],
   "source": [
    "Q1. How do you comment code in Python? What are the different types of comments?\n",
    "\n",
    "A1. In python, we add comments to out code, to provide explanations, notes or context about what we are coding. Comments are not executed by the python interpreter, they are purely for human readers to understand the code better.\n",
    "\n",
    "As per my findings, there are two-types of comments in python:\n",
    "    \n",
    "    1.Single-line comments: These are comments that are single line and typically used for short explanations or notes. These are indicated by the '#' symbol.\n",
    "    ex- #This is a single line comments.\n",
    "    #I am assigning my varible with a value\n",
    "    a=20\n",
    "    \n",
    "    2.Multi-line commments or Docstring: These are used for longer explanations function and a class documentation or docstrings. While python doesn't have a specific syntax for multi-line comments, use triple-quotes like ' ''' ' or ' \" \" \" ' is to create multi-line strings.\n",
    "    ex- \n",
    "\"\n",
    "this is a multi line comments\n",
    "in which i have written multiple lines\n",
    "\"\n"
   ]
  },
  {
   "cell_type": "code",
   "execution_count": null,
   "id": "539bd0a4-d09c-4d7c-9f98-dfbefa3e1990",
   "metadata": {},
   "outputs": [],
   "source": [
    "Q2. What are variables in Python? How do you declare and assign values to variables?\n",
    "\n",
    "A2. Variables in python used to store and manage date.It is like a container that holds value and you can use the variable's name to refer to that value throughout the program. These enable us to store different tyoes of data, such as number, strings, lists and more.\n",
    "\n",
    "Variable declaration and assignment can done by:\n",
    "    name='Atul'\n",
    "    age=30\n",
    "    marks= 98.99\n",
    "    is_student= True\n",
    "\n",
    "Variables shown above as examples can be re-assigned to new value,\n",
    "for ex: name='bhol'\n",
    "\n",
    "Now name container has new value and previous value has been removed."
   ]
  },
  {
   "cell_type": "code",
   "execution_count": null,
   "id": "1a1af0e6-f0ce-4be8-89ee-83e9e6828247",
   "metadata": {},
   "outputs": [],
   "source": [
    "Q3. How do you convert one data type to another in Python?\n",
    "\n",
    "A3. In python we can convert one data type to another using type conversion functions or methods. Here are some commom=n type of conversion functions or methods.\n",
    "Ex:\n",
    "    1: int() convert to an integer\n",
    "    float_num = 3.14\n",
    "    int_num = int(float_num)\n",
    "    \n",
    "    2: float() convert to a floating-point number\n",
    "    int_num = 5\n",
    "    float_num = float(int_num)\n",
    "    \n",
    "    3: str() convert to a string\n",
    "    num = 42\n",
    "    num_str = str(num)"
   ]
  },
  {
   "cell_type": "code",
   "execution_count": null,
   "id": "388bbc5e-2480-4794-86cc-c7bf72daf9c1",
   "metadata": {},
   "outputs": [],
   "source": [
    "Q4. How do you write and execute a Python script from the command line?\n",
    "\n",
    "A4. To write and execute a Python script from the command line, follow these steps:\n",
    "\n",
    "    1: Write a Python script first:\n",
    "       Using a text editor (such as Notepad on Windows, TextEdit on Mac, or any code editor), create a new text file. In this file, enter your Python        code and save it with the.py extension.Save it as 'akb.py'.\n",
    "       \n",
    "    2: Launch the command prompt:\n",
    "       Launch PowerShell or the Command Prompt on Windows. Open the Terminal on Linux or Mac.\n",
    "\n",
    "    3: Access the directory for the script:\n",
    "       To get to the directory where your Python script is located, use the cd command. For example:\n",
    "       cd\\path\\to\\script\\directory\n",
    "       \n",
    "    4: Execute the Script: Use the python command and the script's filename to run the Python script:\n",
    "       Python code, akb.py, to copy.The real name of your Python script should be substituted for myscript.py. When you hit Enter, the Python                interpreter will run the script's code.\n",
    "\n",
    "    5. Check the Output: After the script has run, its output will be visible in the command line. You'll see the output of any print statements in          your script if there are any.\n",
    "       "
   ]
  },
  {
   "cell_type": "code",
   "execution_count": null,
   "id": "8a295ddd-ae4d-4d09-a443-a3c62577a9db",
   "metadata": {},
   "outputs": [],
   "source": [
    "Q5. Given a list my_list = [1, 2, 3, 4, 5], write the code to slice the list and obtain the sub-list [2, 3].\n",
    "\n",
    "A5. my_list = [1, 2, 3, 4, 5]\n",
    "    sub_list = my_list[1:3]\n",
    "    print(sub_list)\n"
   ]
  },
  {
   "cell_type": "code",
   "execution_count": null,
   "id": "d084a8ae-37cb-45e2-be4f-3ffcbcb72a67",
   "metadata": {},
   "outputs": [],
   "source": [
    "Q6. What is a complex number in mathematics, and how is it represented in    Python?\n",
    "\n",
    "A6. In mathematics, a complex number is a number that something that are both real and an imaginary part. The imaginary part is an imaginary unit 'i' or 'j'\n",
    "which is defined as the sqaure root -1.\n",
    "\n",
    "A complex number can be shown as 'a+bj'\n",
    "\n",
    "--'a' is a real part of the complex number.\n",
    "--'b' is an imaginary part of the complex number.\n",
    "--'c' is an imaginary unit which is equal to sqaure root of -1.\n",
    "\n",
    "Another example of complex number with real and imaginary parts\n",
    "\n",
    "a1= 3+2j\n",
    "\n",
    "--'j' works as the imaginary part"
   ]
  },
  {
   "cell_type": "code",
   "execution_count": null,
   "id": "a08696e7-886e-4c88-9f05-79db8c29c7a0",
   "metadata": {},
   "outputs": [],
   "source": [
    "Q7. What is the correct way to declare a variable named age and assign the value 25 to it?\n",
    "\n",
    "A7. The correct way to declare a variable named 'age' and assign the value '25' to it is very simple by using assignment operartor that is '=' in between them. It is done like:\n",
    "\n",
    "age =25\n",
    "\n",
    "and by doing this Python will automatically infer the data type of the variable based on the value assigned to it."
   ]
  },
  {
   "cell_type": "code",
   "execution_count": null,
   "id": "e481ae4c-546b-42e4-9d31-a9088f5b3bf3",
   "metadata": {},
   "outputs": [],
   "source": [
    "Q8. Declare a variable named price and assign the value 9.99 to it. What data type does this variable belong to?\n",
    "\n",
    "A8. To declare variable named 'price' and assign value '9.99' to it is very simple just like the above one. It is done by like this:\n",
    "\n",
    "price= 9.99\n",
    "\n",
    "and for the data type it belongs to is 'Float' data type.\n",
    "\n",
    "We can also check this that 'price' data type is float or not by running a simple code:\n",
    "\n",
    "# Code starts\n",
    "\n",
    "price=9.99\n",
    "\n",
    "# shift + enter\n",
    "\n",
    "(type(price)\n",
    "\n",
    "# shift + enter\n",
    "\n",
    "#output \n",
    "\n",
    "float"
   ]
  },
  {
   "cell_type": "code",
   "execution_count": null,
   "id": "34cd3376-1433-4664-a936-74bdead3c1f6",
   "metadata": {},
   "outputs": [],
   "source": [
    "Q9. Create a variable named name and assign your full name to it as a string. How would you print the value of this variable?\n",
    "\n",
    "A9. To create a variable named 'name' and assign my full name as string and print the value of stored variable is very simple, it is done like:\n",
    "\n",
    "#code starts\n",
    "\n",
    "name='Atul Kumar Bhol'\n",
    "print(name)\n",
    "\n",
    "#shift+ enter\n",
    "\n",
    "#Output\n",
    "\n",
    "Atul Kumar Bhol"
   ]
  },
  {
   "cell_type": "code",
   "execution_count": null,
   "id": "b5467fcd-da1f-486a-9b93-bc43c4d2313a",
   "metadata": {},
   "outputs": [],
   "source": [
    "Q10. Given the string \"Hello, World!\", extract the substring \"World\".\n",
    "\n",
    "A10. #code starts\n",
    "\n",
    "     h= \"Hello, World!\"\n",
    "     x= h[7:12]\n",
    "     print(x)\n",
    "     \n",
    "     #output\n",
    "     \n",
    "     World"
   ]
  },
  {
   "cell_type": "code",
   "execution_count": null,
   "id": "f662f558-bf33-42d5-b9ee-e92bfdd9473e",
   "metadata": {},
   "outputs": [],
   "source": [
    "Q11. Create a variable named \"is_student\" and assign it a boolean value\n",
    "indicating whether you are currently a student or not.\n",
    "\n",
    "A11. Here is an exmple of creating a variable named 'is_student' and assigning it to a boolean value indicating whether you are currently a student or not:\n",
    "\n",
    "is_student = True\n",
    "\n",
    "# If you are currently a student\n",
    "\n",
    "# or\n",
    "\n",
    "is_student = False \n",
    "\n",
    "# If you are not currently a student\n",
    "\n",
    "In this code, you can assign 'True' to the variable 'is_student',if you are currently a student, and False if you are not. The True and False are boolean values in Python."
   ]
  },
  {
   "cell_type": "code",
   "execution_count": null,
   "id": "8562ee15-6066-4ce6-b27b-df55d22bb952",
   "metadata": {},
   "outputs": [],
   "source": []
  },
  {
   "cell_type": "code",
   "execution_count": null,
   "id": "9d8bbd23-5076-47cf-a5c2-941ebea1149b",
   "metadata": {},
   "outputs": [],
   "source": []
  }
 ],
 "metadata": {
  "kernelspec": {
   "display_name": "Python 3 (ipykernel)",
   "language": "python",
   "name": "python3"
  },
  "language_info": {
   "codemirror_mode": {
    "name": "ipython",
    "version": 3
   },
   "file_extension": ".py",
   "mimetype": "text/x-python",
   "name": "python",
   "nbconvert_exporter": "python",
   "pygments_lexer": "ipython3",
   "version": "3.10.8"
  }
 },
 "nbformat": 4,
 "nbformat_minor": 5
}
